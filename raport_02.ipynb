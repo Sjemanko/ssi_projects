{
 "cells": [
  {
   "cell_type": "code",
   "id": "initial_id",
   "metadata": {
    "collapsed": true,
    "ExecuteTime": {
     "end_time": "2025-01-21T22:28:37.369390Z",
     "start_time": "2025-01-21T22:28:37.268605Z"
    }
   },
   "source": [
    "from main import *\n",
    "\n",
    "print(test1)\n",
    "moved_test_1 = np.roll(test1, -1)\n",
    "print(moved_test_1)"
   ],
   "outputs": [
    {
     "name": "stdout",
     "output_type": "stream",
     "text": [
      "[[0 0 0 0]\n",
      " [0 0 1 1]\n",
      " [0 1 1 1]\n",
      " [0 0 0 1]\n",
      " [0 0 0 1]]\n",
      "[[0 0 0 0]\n",
      " [0 1 1 0]\n",
      " [1 1 1 0]\n",
      " [0 0 1 0]\n",
      " [0 0 1 0]]\n"
     ]
    }
   ],
   "execution_count": 1
  },
  {
   "metadata": {
    "ExecuteTime": {
     "end_time": "2025-01-21T22:31:49.814213Z",
     "start_time": "2025-01-21T22:31:49.803112Z"
    }
   },
   "cell_type": "code",
   "source": [
    "miara_2_1_euclidean = main(moved_test_1, wzorzec1 , euclidean)\n",
    "print(f'Miara niepodobieństwa 2stronne - (przesunięty znak_testowy1, wzorzec1, euclidean) = {miara_2_1_euclidean}')"
   ],
   "id": "4fecbd87b46bc315",
   "outputs": [
    {
     "name": "stdout",
     "output_type": "stream",
     "text": [
      "Miara niepodobieństwa 2stronne - (przesunięty znak_testowy1, wzorzec1, euclidean) = -10.414213562373096\n"
     ]
    }
   ],
   "execution_count": 2
  },
  {
   "metadata": {
    "ExecuteTime": {
     "end_time": "2025-01-21T22:32:19.712584Z",
     "start_time": "2025-01-21T22:32:19.697521Z"
    }
   },
   "cell_type": "code",
   "source": [
    "miara_2_2_euclidean = main(moved_test_1, wzorzec2 , euclidean)\n",
    "print(f'Miara niepodobieństwa 2stronne - (przesunięty znak_testowy1, wzorzec2, euclidean) = {miara_2_2_euclidean}')"
   ],
   "id": "8b0bcbd13ca7353d",
   "outputs": [
    {
     "name": "stdout",
     "output_type": "stream",
     "text": [
      "Miara niepodobieństwa 2stronne - (przesunięty znak_testowy1, wzorzec2, euclidean) = -15.414213562373096\n"
     ]
    }
   ],
   "execution_count": 4
  },
  {
   "metadata": {
    "ExecuteTime": {
     "end_time": "2025-01-21T22:32:34.526800Z",
     "start_time": "2025-01-21T22:32:34.508354Z"
    }
   },
   "cell_type": "code",
   "source": [
    "miara_2_3_euclidean = main(moved_test_1, wzorzec3, euclidean)\n",
    "print(f'Miara niepodobieństwa 2stronne - (przesunięty znak_testowy1, wzorzec3, euclidean) = {miara_2_3_euclidean}')"
   ],
   "id": "4b9d4014863ac536",
   "outputs": [
    {
     "name": "stdout",
     "output_type": "stream",
     "text": [
      "Miara niepodobieństwa 2stronne - (przesunięty znak_testowy1, wzorzec3, euclidean) = -12.414213562373096\n"
     ]
    }
   ],
   "execution_count": 5
  }
 ],
 "metadata": {
  "kernelspec": {
   "display_name": "Python 3",
   "language": "python",
   "name": "python3"
  },
  "language_info": {
   "codemirror_mode": {
    "name": "ipython",
    "version": 2
   },
   "file_extension": ".py",
   "mimetype": "text/x-python",
   "name": "python",
   "nbconvert_exporter": "python",
   "pygments_lexer": "ipython2",
   "version": "2.7.6"
  }
 },
 "nbformat": 4,
 "nbformat_minor": 5
}

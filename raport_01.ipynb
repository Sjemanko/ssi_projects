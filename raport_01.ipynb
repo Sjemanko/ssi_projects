{
 "cells": [
  {
   "metadata": {
    "ExecuteTime": {
     "end_time": "2025-01-21T22:25:19.870236Z",
     "start_time": "2025-01-21T22:25:19.860669Z"
    }
   },
   "cell_type": "code",
   "source": [
    "from main import *\n",
    "\n",
    "miara_1_1_manhattan = main(test1, wzorzec1 , manhattan)\n",
    "print(f'Miara niepodobieństwa 2stronne - (znak_testowy1, wzorzec1, manhattan) = {miara_1_1_manhattan}')\n"
   ],
   "id": "361cd730fac27e46",
   "outputs": [
    {
     "name": "stdout",
     "output_type": "stream",
     "text": [
      "Miara niepodobieństwa 2stronne - (znak_testowy1, wzorzec1, manhattan) = -2\n"
     ]
    }
   ],
   "execution_count": 3
  },
  {
   "metadata": {
    "ExecuteTime": {
     "end_time": "2025-01-21T22:25:21.553658Z",
     "start_time": "2025-01-21T22:25:21.534141Z"
    }
   },
   "cell_type": "code",
   "source": [
    "miara_1_1_czebyszew = main(test1, wzorzec1 , czebyszew)\n",
    "print(f'Miara niepodobieństwa 2stronne - (znak_testowy1, wzorzec1, czebyszew) = {miara_1_1_czebyszew}')"
   ],
   "id": "d433736e126a61eb",
   "outputs": [
    {
     "name": "stdout",
     "output_type": "stream",
     "text": [
      "Miara niepodobieństwa 2stronne - (znak_testowy1, wzorzec1, czebyszew) = -2\n"
     ]
    }
   ],
   "execution_count": 4
  },
  {
   "metadata": {
    "ExecuteTime": {
     "end_time": "2025-01-21T22:25:22.863251Z",
     "start_time": "2025-01-21T22:25:22.844081Z"
    }
   },
   "cell_type": "code",
   "source": [
    "miara_1_1_euclidean = main(test1, wzorzec1 , euclidean)\n",
    "print(f'Miara niepodobieństwa 2stronne - (znak_testowy1, wzorzec1, euclidean) = {miara_1_1_euclidean}')"
   ],
   "id": "67cdff0de3094cda",
   "outputs": [
    {
     "name": "stdout",
     "output_type": "stream",
     "text": [
      "Miara niepodobieństwa 2stronne - (znak_testowy1, wzorzec1, euclidean) = -2.0\n"
     ]
    }
   ],
   "execution_count": 5
  },
  {
   "metadata": {
    "ExecuteTime": {
     "end_time": "2025-01-21T22:25:25.251131Z",
     "start_time": "2025-01-21T22:25:25.241648Z"
    }
   },
   "cell_type": "code",
   "source": [
    "miara_1_2_manhattan = main(test1, wzorzec2 , manhattan)\n",
    "print(f'Miara niepodobieństwa 2stronne - (znak_testowy1, wzorzec2, manhattan) = {miara_1_2_manhattan}')"
   ],
   "id": "75286b085f3c2ba6",
   "outputs": [
    {
     "name": "stdout",
     "output_type": "stream",
     "text": [
      "Miara niepodobieństwa 2stronne - (znak_testowy1, wzorzec2, manhattan) = -17\n"
     ]
    }
   ],
   "execution_count": 6
  },
  {
   "metadata": {
    "ExecuteTime": {
     "end_time": "2025-01-21T22:25:26.340477Z",
     "start_time": "2025-01-21T22:25:26.322468Z"
    }
   },
   "cell_type": "code",
   "source": [
    "miara_1_2_czebyszew = main(test1, wzorzec2 , czebyszew)\n",
    "print(f'Miara niepodobieństwa 2stronne - (znak_testowy1, wzorzec2, czebyszew) = {miara_1_2_czebyszew}')"
   ],
   "id": "22c84182c22dc292",
   "outputs": [
    {
     "name": "stdout",
     "output_type": "stream",
     "text": [
      "Miara niepodobieństwa 2stronne - (znak_testowy1, wzorzec2, czebyszew) = -14\n"
     ]
    }
   ],
   "execution_count": 7
  },
  {
   "metadata": {
    "ExecuteTime": {
     "end_time": "2025-01-21T22:25:27.306719Z",
     "start_time": "2025-01-21T22:25:27.295465Z"
    }
   },
   "cell_type": "code",
   "source": [
    "miara_1_2_euclidean = main(test1, wzorzec2 , euclidean)\n",
    "print(f'Miara niepodobieństwa 2stronne - (znak_testowy1, wzorzec2, euclidean) = {miara_1_2_euclidean}')"
   ],
   "id": "d88c678bb3e01ba1",
   "outputs": [
    {
     "name": "stdout",
     "output_type": "stream",
     "text": [
      "Miara niepodobieństwa 2stronne - (znak_testowy1, wzorzec2, euclidean) = -15.06449510224598\n"
     ]
    }
   ],
   "execution_count": 8
  },
  {
   "metadata": {
    "ExecuteTime": {
     "end_time": "2025-01-21T22:25:28.385879Z",
     "start_time": "2025-01-21T22:25:28.375785Z"
    }
   },
   "cell_type": "code",
   "source": [
    "miara_1_3_manhattan = main(test1, wzorzec3 , manhattan)\n",
    "print(f'Miara niepodobieństwa 2stronne - (znak_testowy1, wzorzec3, manhattan) = {miara_1_3_manhattan}')"
   ],
   "id": "8bffef0d3cec6610",
   "outputs": [
    {
     "name": "stdout",
     "output_type": "stream",
     "text": [
      "Miara niepodobieństwa 2stronne - (znak_testowy1, wzorzec3, manhattan) = -15\n"
     ]
    }
   ],
   "execution_count": 9
  },
  {
   "metadata": {
    "ExecuteTime": {
     "end_time": "2025-01-21T22:25:46.422474Z",
     "start_time": "2025-01-21T22:25:46.412434Z"
    }
   },
   "cell_type": "code",
   "source": [
    "miara_1_3_czebyszew = main(test1, wzorzec3 , czebyszew)\n",
    "print(f'Miara niepodobieństwa 2stronne - (znak_testowy1, wzorzec3, czebyszew) = {miara_1_3_czebyszew}')"
   ],
   "id": "fee9377094fadedd",
   "outputs": [
    {
     "name": "stdout",
     "output_type": "stream",
     "text": [
      "Miara niepodobieństwa 2stronne - (znak_testowy1, wzorzec3, czebyszew) = -12\n"
     ]
    }
   ],
   "execution_count": 10
  },
  {
   "metadata": {
    "ExecuteTime": {
     "end_time": "2025-01-21T22:26:03.297609Z",
     "start_time": "2025-01-21T22:26:03.282492Z"
    }
   },
   "cell_type": "code",
   "source": [
    "miara_1_3_euclidean = main(test1, wzorzec3 , euclidean)\n",
    "print(f'Miara niepodobieństwa 2stronne - (znak_testowy1, wzorzec3, euclidean) = {miara_1_3_euclidean}')"
   ],
   "id": "97bebf15214ab775",
   "outputs": [
    {
     "name": "stdout",
     "output_type": "stream",
     "text": [
      "Miara niepodobieństwa 2stronne - (znak_testowy1, wzorzec3, euclidean) = -12.886349517372675\n"
     ]
    }
   ],
   "execution_count": 11
  }
 ],
 "metadata": {
  "kernelspec": {
   "display_name": "Python 3",
   "language": "python",
   "name": "python3"
  },
  "language_info": {
   "codemirror_mode": {
    "name": "ipython",
    "version": 2
   },
   "file_extension": ".py",
   "mimetype": "text/x-python",
   "name": "python",
   "nbconvert_exporter": "python",
   "pygments_lexer": "ipython2",
   "version": "2.7.6"
  }
 },
 "nbformat": 4,
 "nbformat_minor": 5
}

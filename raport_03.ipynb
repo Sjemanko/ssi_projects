{
 "cells": [
  {
   "cell_type": "code",
   "id": "initial_id",
   "metadata": {
    "collapsed": true,
    "ExecuteTime": {
     "end_time": "2025-01-21T22:36:38.250431Z",
     "start_time": "2025-01-21T22:36:38.135194Z"
    }
   },
   "source": [
    "from main import *\n",
    "\n",
    "miara_3_1_euclidean = main(test2, wzorzec1 , euclidean)\n",
    "print(f'Miara niepodobieństwa 2stronne - (znak_testowy2, wzorzec1, euclidean) = {miara_3_1_euclidean}')\n"
   ],
   "outputs": [
    {
     "name": "stdout",
     "output_type": "stream",
     "text": [
      "Miara niepodobieństwa 2stronne - (znak_testowy2, wzorzec1, euclidean) = -13.886349517372675\n"
     ]
    }
   ],
   "execution_count": 1
  },
  {
   "metadata": {
    "ExecuteTime": {
     "end_time": "2025-01-21T22:37:02.259977Z",
     "start_time": "2025-01-21T22:37:02.251597Z"
    }
   },
   "cell_type": "code",
   "source": [
    "miara_3_2_euclidean = main(test2, wzorzec2 , euclidean)\n",
    "print(f'Miara niepodobieństwa 2stronne - (znak_testowy2, wzorzec2, euclidean) = {miara_3_2_euclidean}')"
   ],
   "id": "5dbdc29a86f78bd1",
   "outputs": [
    {
     "name": "stdout",
     "output_type": "stream",
     "text": [
      "Miara niepodobieństwa 2stronne - (znak_testowy2, wzorzec2, euclidean) = -8.0\n"
     ]
    }
   ],
   "execution_count": 2
  },
  {
   "metadata": {
    "ExecuteTime": {
     "end_time": "2025-01-21T22:37:33.719512Z",
     "start_time": "2025-01-21T22:37:33.705599Z"
    }
   },
   "cell_type": "code",
   "source": [
    "miara_3_3_euclidean = main(test2, wzorzec3 , euclidean)\n",
    "print(f'Miara niepodobieństwa 2stronne - (znak_testowy2, wzorzec3, euclidean) = {miara_3_3_euclidean}')"
   ],
   "id": "8bc8921bc465826d",
   "outputs": [
    {
     "name": "stdout",
     "output_type": "stream",
     "text": [
      "Miara niepodobieństwa 2stronne - (znak_testowy2, wzorzec3, euclidean) = -3.0\n"
     ]
    }
   ],
   "execution_count": 3
  },
  {
   "metadata": {
    "ExecuteTime": {
     "end_time": "2025-01-21T22:38:51.963955Z",
     "start_time": "2025-01-21T22:38:51.956903Z"
    }
   },
   "cell_type": "code",
   "source": [
    "miara_3_4_euclidean = main(test3, wzorzec1 , euclidean)\n",
    "print(f'Miara niepodobieństwa 2stronne - (znak_testowy3, wzorzec1, euclidean) = {miara_3_4_euclidean}')"
   ],
   "id": "cbd9f71ce3f24add",
   "outputs": [
    {
     "name": "stdout",
     "output_type": "stream",
     "text": [
      "Miara niepodobieństwa 2stronne - (znak_testowy3, wzorzec1, euclidean) = -17.30056307974577\n"
     ]
    }
   ],
   "execution_count": 4
  },
  {
   "metadata": {
    "ExecuteTime": {
     "end_time": "2025-01-21T22:39:09.249347Z",
     "start_time": "2025-01-21T22:39:09.240820Z"
    }
   },
   "cell_type": "code",
   "source": [
    "miara_3_5_euclidean = main(test3, wzorzec2 , euclidean)\n",
    "print(f'Miara niepodobieństwa 2stronne - (znak_testowy3, wzorzec2, euclidean) = {miara_3_5_euclidean}')"
   ],
   "id": "58b0e4dc59e741c",
   "outputs": [
    {
     "name": "stdout",
     "output_type": "stream",
     "text": [
      "Miara niepodobieństwa 2stronne - (znak_testowy3, wzorzec2, euclidean) = -3.0\n"
     ]
    }
   ],
   "execution_count": 5
  },
  {
   "metadata": {
    "ExecuteTime": {
     "end_time": "2025-01-21T22:39:22.752963Z",
     "start_time": "2025-01-21T22:39:22.731832Z"
    }
   },
   "cell_type": "code",
   "source": [
    "miara_3_6_euclidean = main(test3, wzorzec3 , euclidean)\n",
    "print(f'Miara niepodobieństwa 2stronne - (znak_testowy3, wzorzec3, euclidean) = {miara_3_6_euclidean}')"
   ],
   "id": "9b828fd447108366",
   "outputs": [
    {
     "name": "stdout",
     "output_type": "stream",
     "text": [
      "Miara niepodobieństwa 2stronne - (znak_testowy3, wzorzec3, euclidean) = -8.0\n"
     ]
    }
   ],
   "execution_count": 6
  }
 ],
 "metadata": {
  "kernelspec": {
   "display_name": "Python 3",
   "language": "python",
   "name": "python3"
  },
  "language_info": {
   "codemirror_mode": {
    "name": "ipython",
    "version": 2
   },
   "file_extension": ".py",
   "mimetype": "text/x-python",
   "name": "python",
   "nbconvert_exporter": "python",
   "pygments_lexer": "ipython2",
   "version": "2.7.6"
  }
 },
 "nbformat": 4,
 "nbformat_minor": 5
}

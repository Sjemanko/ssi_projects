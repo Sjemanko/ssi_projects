{
 "cells": [
  {
   "metadata": {
    "ExecuteTime": {
     "end_time": "2024-12-01T22:34:50.035873Z",
     "start_time": "2024-12-01T22:34:48.481274Z"
    }
   },
   "cell_type": "code",
   "source": [
    "# Poprawione importy (inna struktura plików)\n",
    "import alg_01\n",
    "from ssi_alg_1.Euclidean import Euclidean\n",
    "from ssi_alg_1.DistOfOnlyX1Param import DistOfOnlyX1Param\n",
    "from ssi_alg_1.DistOfOnlyX2Param import DistOfOnlyX2Param\n",
    "\n",
    "alg_01.main(10, 3,['red', 'lawngreen', 'blue'] , Euclidean())\n",
    "\n",
    "# ZMIANA - Dodanie Strategii dla nowej miary odległości (tylko x2 param)"
   ],
   "id": "78052e8fcd8f5dd0",
   "outputs": [
    {
     "name": "stdout",
     "output_type": "stream",
     "text": [
      "\n",
      "iterations: 4\n",
      "\n",
      "middle point 1: [0.082; 0.9354]: \n",
      "-> number of points in group: 1: 50  \n",
      "-> min values in group 1: (x: -1.7296, y: -0.2716) \n",
      "-> max values in group 1: (x: 1.3375, y: 1.9929)\n",
      "\n",
      "middle point 2: [0.6225; -1.1159]: \n",
      "-> number of points in group: 2: 24  \n",
      "-> min values in group 2: (x: -0.3374, y: -1.5564) \n",
      "-> max values in group 2: (x: 1.2707, y: -0.4779)\n",
      "\n",
      "middle point 3: [-1.3115; -0.6786]: \n",
      "-> number of points in group: 3: 27  \n",
      "-> min values in group 3: (x: -1.779, y: -1.5191) \n",
      "-> max values in group 3: (x: -0.4568, y: 0.5381)\n",
      "\n",
      "\n",
      "iterations: 8\n",
      "\n",
      "middle point 1: [-0.0391; 1.2201]: \n",
      "-> number of points in group: 1: 34  \n",
      "-> min values in group 1: (x: -1.3866, y: 0.5559) \n",
      "-> max values in group 1: (x: 1.1587, y: 1.9929)\n",
      "\n",
      "middle point 2: [0.7437; -0.7781]: \n",
      "-> number of points in group: 2: 37  \n",
      "-> min values in group 2: (x: -0.4682, y: -1.5564) \n",
      "-> max values in group 2: (x: 1.3375, y: 0.4486)\n",
      "\n",
      "middle point 3: [-1.4186; -0.3674]: \n",
      "-> number of points in group: 3: 30  \n",
      "-> min values in group 3: (x: -1.779, y: -1.4956) \n",
      "-> max values in group 3: (x: -0.5552, y: 1.0313)\n",
      "\n"
     ]
    }
   ],
   "execution_count": 9
  },
  {
   "cell_type": "markdown",
   "source": [
    "![](../ksrednich_1.png)"
   ],
   "metadata": {
    "collapsed": false
   }
  },
  {
   "cell_type": "markdown",
   "source": [
    "![](../ksrednich2.png)"
   ],
   "metadata": {
    "collapsed": false
   }
  },
  {
   "cell_type": "code",
   "execution_count": 10,
   "outputs": [
    {
     "name": "stdout",
     "output_type": "stream",
     "text": [
      "\n",
      "iterations: 4\n",
      "\n",
      "middle point 1: [-0.7995; 1.674]: \n",
      "-> number of points in group: 1: 15  \n",
      "-> min values in group 1: (x: -1.3866, y: 1.2606) \n",
      "-> max values in group 1: (x: 0.0322, y: 1.9929)\n",
      "\n",
      "middle point 2: [-0.123; -1.0247]: \n",
      "-> number of points in group: 2: 46  \n",
      "-> min values in group 2: (x: -1.7169, y: -1.5564) \n",
      "-> max values in group 2: (x: 1.3301, y: -0.248)\n",
      "\n",
      "middle point 3: [0.0319; 0.5924]: \n",
      "-> number of points in group: 3: 40  \n",
      "-> min values in group 3: (x: -1.779, y: -0.0879) \n",
      "-> max values in group 3: (x: 1.3375, y: 1.0724)\n",
      "\n",
      "\n",
      "iterations: 8\n",
      "\n",
      "middle point 1: [-0.7995; 1.674]: \n",
      "-> number of points in group: 1: 15  \n",
      "-> min values in group 1: (x: -1.3866, y: 1.2606) \n",
      "-> max values in group 1: (x: 0.0322, y: 1.9929)\n",
      "\n",
      "middle point 2: [-0.123; -1.0247]: \n",
      "-> number of points in group: 2: 46  \n",
      "-> min values in group 2: (x: -1.7169, y: -1.5564) \n",
      "-> max values in group 2: (x: 1.3301, y: -0.248)\n",
      "\n",
      "middle point 3: [0.0319; 0.5924]: \n",
      "-> number of points in group: 3: 40  \n",
      "-> min values in group 3: (x: -1.779, y: -0.0879) \n",
      "-> max values in group 3: (x: 1.3375, y: 1.0724)\n",
      "\n"
     ]
    }
   ],
   "source": [
    "# alg_01.main(10, 4,['red', 'lawngreen', 'blue', 'magenta'] , DistOfOnlyX1Param())\n",
    "# ZMIANA wywołania\n",
    "alg_01.main(10, 3, ['red', 'lawngreen', 'blue'], DistOfOnlyX2Param())"
   ],
   "metadata": {
    "collapsed": false
   }
  },
  {
   "cell_type": "markdown",
   "source": [
    "![](../ksrednich3.png)"
   ],
   "metadata": {
    "collapsed": false
   }
  },
  {
   "cell_type": "markdown",
   "source": [
    "![](../ksrednich4.png)"
   ],
   "metadata": {
    "collapsed": false
   }
  },
  {
   "cell_type": "code",
   "execution_count": 11,
   "outputs": [
    {
     "name": "stdout",
     "output_type": "stream",
     "text": [
      "\n",
      "iterations: 4\n",
      "\n",
      "middle point 1: [0.0476; 1.0683]: \n",
      "-> number of points in group: 1: 33  \n",
      "-> min values in group 1: (x: -1.3866, y: 0.5818) \n",
      "-> max values in group 1: (x: 1.0519, y: 1.9929)\n",
      "\n",
      "middle point 2: [-0.0566; -1.4538]: \n",
      "-> number of points in group: 2: 20  \n",
      "-> min values in group 2: (x: -0.9805, y: -1.5564) \n",
      "-> max values in group 2: (x: 0.6759, y: -1.2422)\n",
      "\n",
      "middle point 3: [-1.7168; -0.0879]: \n",
      "-> number of points in group: 3: 24  \n",
      "-> min values in group 3: (x: -1.779, y: -1.2181) \n",
      "-> max values in group 3: (x: -1.1398, y: 1.0313)\n",
      "\n",
      "middle point 4: [1.2314; -0.5076]: \n",
      "-> number of points in group: 4: 24  \n",
      "-> min values in group 4: (x: 0.6782, y: -1.1675) \n",
      "-> max values in group 4: (x: 1.3375, y: 0.5559)\n",
      "\n",
      "\n",
      "iterations: 8\n",
      "\n",
      "middle point 1: [0.0476; 1.0683]: \n",
      "-> number of points in group: 1: 30  \n",
      "-> min values in group 1: (x: -1.1918, y: 0.5818) \n",
      "-> max values in group 1: (x: 1.0519, y: 1.9929)\n",
      "\n",
      "middle point 2: [-0.4682; -1.4563]: \n",
      "-> number of points in group: 2: 24  \n",
      "-> min values in group 2: (x: -1.3595, y: -1.5564) \n",
      "-> max values in group 2: (x: 0.5377, y: -0.8821)\n",
      "\n",
      "middle point 3: [-1.7208; 0.2806]: \n",
      "-> number of points in group: 3: 22  \n",
      "-> min values in group 3: (x: -1.779, y: -0.7615) \n",
      "-> max values in group 3: (x: -1.2852, y: 1.3016)\n",
      "\n",
      "middle point 4: [1.2314; -0.5076]: \n",
      "-> number of points in group: 4: 25  \n",
      "-> min values in group 4: (x: 0.6759, y: -1.3292) \n",
      "-> max values in group 4: (x: 1.3375, y: 0.5559)\n",
      "\n"
     ]
    }
   ],
   "source": [
    "alg_01.main(10, 4,['red', 'lawngreen', 'blue', 'magenta'] , Euclidean(), 'median')"
   ],
   "metadata": {
    "collapsed": false
   }
  },
  {
   "cell_type": "markdown",
   "source": [
    "![](../kmedian5.png)"
   ],
   "metadata": {
    "collapsed": false
   }
  },
  {
   "cell_type": "markdown",
   "source": [
    "![](../kmedian6.png)"
   ],
   "metadata": {
    "collapsed": false
   }
  }
 ],
 "metadata": {
  "kernelspec": {
   "display_name": "Python 3",
   "language": "python",
   "name": "python3"
  },
  "language_info": {
   "codemirror_mode": {
    "name": "ipython",
    "version": 2
   },
   "file_extension": ".py",
   "mimetype": "text/x-python",
   "name": "python",
   "nbconvert_exporter": "python",
   "pygments_lexer": "ipython2",
   "version": "2.7.6"
  }
 },
 "nbformat": 4,
 "nbformat_minor": 5
}
